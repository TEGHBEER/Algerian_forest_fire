{
 "cells": [
  {
   "cell_type": "code",
   "execution_count": 1,
   "id": "077f35aa-4752-4429-88db-d12db474b4bd",
   "metadata": {},
   "outputs": [
    {
     "name": "stdout",
     "output_type": "stream",
     "text": [
      "Predictions on unseen data: [0]\n"
     ]
    }
   ],
   "source": [
    "import pickle\n",
    "import pandas as pd\n",
    "\n",
    "# Load the model\n",
    "with open('logistic_regression_model.pkl', 'rb') as model_file:\n",
    "    loaded_model = pickle.load(model_file)\n",
    "\n",
    "# Load the scaler\n",
    "with open('scaler.pkl', 'rb') as scaler_file:\n",
    "    scaler = pickle.load(scaler_file)\n",
    "\n",
    "# Create unseen data as a DataFrame\n",
    "unseen_data = pd.DataFrame({\n",
    "    'Temperature': [29],\n",
    "    'RH': [57],\n",
    "    'Ws': [18],\n",
    "    'FFMC': [18],\n",
    "    'DMC': [3.4],\n",
    "    'DC': [7.6],\n",
    "    'ISI': [1.3],\n",
    "    'BUI': [3.4],\n",
    "    'FWI': [0.5]\n",
    "})\n",
    "\n",
    "# Scale the unseen data using the loaded scaler\n",
    "unseen_data_scaled = scaler.transform(unseen_data)\n",
    "\n",
    "# Predict using the loaded model\n",
    "unseen_predictions = loaded_model.predict(unseen_data_scaled)\n",
    "\n",
    "# Display the predictions\n",
    "print(\"Predictions on unseen data:\", unseen_predictions)\n"
   ]
  },
  {
   "cell_type": "markdown",
   "id": "21df8a3e-e35c-498f-9e23-f032582b1b30",
   "metadata": {},
   "source": [
    "### Prediction on Unseen Dataset\n",
    "The prediction on the unseen dataset is **0**, indicating that there will be **no fire** for the given data values.\n"
   ]
  }
 ],
 "metadata": {
  "kernelspec": {
   "display_name": "Python 3 (ipykernel)",
   "language": "python",
   "name": "python3"
  },
  "language_info": {
   "codemirror_mode": {
    "name": "ipython",
    "version": 3
   },
   "file_extension": ".py",
   "mimetype": "text/x-python",
   "name": "python",
   "nbconvert_exporter": "python",
   "pygments_lexer": "ipython3",
   "version": "3.12.0"
  }
 },
 "nbformat": 4,
 "nbformat_minor": 5
}
